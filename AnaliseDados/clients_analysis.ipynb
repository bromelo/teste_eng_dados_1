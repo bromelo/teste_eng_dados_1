{
 "cells": [
  {
   "cell_type": "code",
   "execution_count": 2,
   "id": "f3e94e81",
   "metadata": {},
   "outputs": [],
   "source": [
    "from pyspark.sql import SparkSession, Window\n",
    "import pyspark.sql.functions as F"
   ]
  },
  {
   "cell_type": "code",
   "execution_count": 3,
   "id": "59662797",
   "metadata": {},
   "outputs": [
    {
     "name": "stderr",
     "output_type": "stream",
     "text": [
      "Setting default log level to \"WARN\".\n",
      "To adjust logging level use sc.setLogLevel(newLevel). For SparkR, use setLogLevel(newLevel).\n",
      "25/04/19 13:24:21 WARN NativeCodeLoader: Unable to load native-hadoop library for your platform... using builtin-java classes where applicable\n"
     ]
    }
   ],
   "source": [
    "spark: SparkSession = SparkSession.builder.appName(\"teste_itau\").getOrCreate()"
   ]
  },
  {
   "cell_type": "code",
   "execution_count": 4,
   "id": "73a3ff02",
   "metadata": {},
   "outputs": [],
   "source": [
    "df_clients = spark.read.csv(\"../datasets/clientes_sinteticos.csv\", header=True, sep=\",\")"
   ]
  },
  {
   "cell_type": "code",
   "execution_count": 5,
   "id": "b529e28d",
   "metadata": {},
   "outputs": [
    {
     "name": "stdout",
     "output_type": "stream",
     "text": [
      "+-----------+-----------------+--------------------+-------------------+-----------------+----------------+--------------------+---------------------+--------------+---------+--------+\n",
      "|cod_cliente|       nm_cliente|     nm_pais_cliente|  nm_cidade_cliente|   nm_rua_cliente|num_casa_cliente|    telefone_cliente|dt_nascimento_cliente|dt_atualizacao|tp_pessoa|vl_renda|\n",
      "+-----------+-----------------+--------------------+-------------------+-----------------+----------------+--------------------+---------------------+--------------+---------+--------+\n",
      "|        980|    Krista Rogers|          Guadeloupe|          Kellyview|      Barker Walk|            3309|      (95)39194-2483|           2001-10-29|    2024-04-18|       PJ|57900.19|\n",
      "|        177| Veronica Russell|       Guinea-Bissau|          Romanside|    Tucker Canyon|             268|      (42)71167-9960|           1991-08-03|    2024-10-28|       PJ|78775.44|\n",
      "|        267|   William Hughes|            Mongolia|         Taylorview|     Daniel Inlet|           72089|      (70)40026-9752|           2006-12-08|    2025-01-20|       PF| 8877.67|\n",
      "|        980|      Anita Riggs|            Suriname|  New Catherinestad|     Daniel Plain|           54225|001-595-499-9546x079|           2002-12-19|    2024-04-08|       PJ|41326.54|\n",
      "|        530|    Alan Humphrey|             Belgium|         Dianeshire|         Wu Inlet|           80620|      (11)55935-5396|           1963-12-18|    2024-11-28|       PJ|67695.14|\n",
      "|        561|     Haley Harris|           Swaziland|        Michaeltown|  Marsh Stravenue|             562|      (71)90455-9956|           1963-02-05|    2024-11-04|       PJ|48874.57|\n",
      "|        396|    Donald Walker|      Cayman Islands|          New Daisy|  Palmer Crescent|           25702|    723.957.2526x786|           1946-03-24|    2024-07-18|       PJ|20094.37|\n",
      "|        212|      Kevin Smith|             Bahrain|     East Jasontown|       James Fork|           37887|      (89)34335-7239|           1952-07-12|    2024-06-14|       PJ|93220.41|\n",
      "|        396|  Jennifer Malone|               Korea|   Port Victormouth|       Smith Walk|           91710|      (25)32909-5910|           2005-11-20|    2024-06-23|       PJ|93709.69|\n",
      "|        763|    Justin Hunter|              Rwanda|        West Joseph|      Linda Walks|             752|      (80)97036-1375|           1958-08-15|    2024-09-28|       PF| 9163.69|\n",
      "|        975|    Lindsey Lewis|        Cook Islands|    East Josephfurt|      Dunn Groves|             660|      (30)47422-4038|           1946-03-13|    2025-03-23|       PJ|54144.95|\n",
      "|        177|     Sierra Quinn|              Zambia|        Melindatown|        James Run|            6471|      (45)88202-7887|           1954-08-09|    2025-03-03|       PJ|69799.53|\n",
      "|        190|       Noah Stone|            Suriname|         Martinview|      Huerta Lock|             296|      (93)69452-5359|           1966-09-09|    2024-11-29|       PJ|64615.03|\n",
      "|        190|       Ana Wilson|      United Kingdom| Port Denisechester|     Claire Mills|             651|      (73)75320-5643|           1964-07-24|    2024-08-05|       PF| 4582.51|\n",
      "|        925|     Randy Robles|               Palau|       Moodychester|  Wallace Gardens|            8050|      (35)43622-2974|           1952-03-28|    2024-07-31|       PJ| 95576.2|\n",
      "|        920|   Danielle Lopez|          Guadeloupe|     Christinemouth|     Stephen Mews|           78487|      (79)28255-5198|           1983-06-15|    2024-05-10|       PF| 6361.51|\n",
      "|        980|   Diana Williams|             Bermuda|       Frankborough|    Nguyen Bridge|           15217|      (30)19810-8705|           1945-11-09|    2025-04-02|       PF| 1438.95|\n",
      "|        850|  Tiffany Johnson|Turks and Caicos ...|        Austinmouth|  Trevor Villages|           78380|      (78)24440-4480|           1986-04-07|    2024-09-09|       PF| 5276.56|\n",
      "|        267|Anthony Hernandez|            Cameroon|      Andrewborough|Castillo Motorway|            3935|      (74)75481-7026|           2000-12-17|    2024-05-04|       PF| 4406.63|\n",
      "|        177|       Karen Hart|Central African R...|West Williamchester|    Wilson Ridges|           16422|       (913)801-5772|           1991-07-20|    2025-02-23|       PJ|81390.19|\n",
      "+-----------+-----------------+--------------------+-------------------+-----------------+----------------+--------------------+---------------------+--------------+---------+--------+\n",
      "only showing top 20 rows\n",
      "\n"
     ]
    }
   ],
   "source": [
    "df_clients.show()"
   ]
  },
  {
   "cell_type": "code",
   "execution_count": 6,
   "id": "ce20c361",
   "metadata": {},
   "outputs": [],
   "source": [
    "w_rank = Window.orderBy(F.col(\"up_count\").desc())\n",
    "\n",
    "df_top_updates = (\n",
    "    df_clients.groupBy(\"cod_cliente\")\n",
    "    .agg(F.count(\"dt_atualizacao\").alias(\"up_count\"))\n",
    "    .withColumn(\"rank\", F.dense_rank().over(w_rank))\n",
    "    .filter(F.col(\"rank\") <= 5)\n",
    ")"
   ]
  },
  {
   "cell_type": "code",
   "execution_count": 7,
   "id": "33365197",
   "metadata": {},
   "outputs": [
    {
     "name": "stderr",
     "output_type": "stream",
     "text": [
      "25/04/19 13:24:24 WARN WindowExec: No Partition Defined for Window operation! Moving all data to a single partition, this can cause serious performance degradation.\n",
      "25/04/19 13:24:24 WARN WindowExec: No Partition Defined for Window operation! Moving all data to a single partition, this can cause serious performance degradation.\n",
      "25/04/19 13:24:25 WARN WindowExec: No Partition Defined for Window operation! Moving all data to a single partition, this can cause serious performance degradation.\n",
      "25/04/19 13:24:25 WARN WindowExec: No Partition Defined for Window operation! Moving all data to a single partition, this can cause serious performance degradation.\n",
      "25/04/19 13:24:25 WARN WindowExec: No Partition Defined for Window operation! Moving all data to a single partition, this can cause serious performance degradation.\n",
      "25/04/19 13:24:25 WARN WindowExec: No Partition Defined for Window operation! Moving all data to a single partition, this can cause serious performance degradation.\n",
      "25/04/19 13:24:25 WARN WindowExec: No Partition Defined for Window operation! Moving all data to a single partition, this can cause serious performance degradation.\n"
     ]
    },
    {
     "name": "stdout",
     "output_type": "stream",
     "text": [
      "+-----------+--------+----+\n",
      "|cod_cliente|up_count|rank|\n",
      "+-----------+--------+----+\n",
      "|        878|       5|   1|\n",
      "|        479|       5|   1|\n",
      "|        396|       5|   1|\n",
      "|        855|       4|   2|\n",
      "|        663|       3|   3|\n",
      "|         71|       3|   3|\n",
      "|        980|       3|   3|\n",
      "|        850|       3|   3|\n",
      "|        503|       3|   3|\n",
      "|        632|       3|   3|\n",
      "|        502|       3|   3|\n",
      "|        227|       3|   3|\n",
      "|        620|       3|   3|\n",
      "|        177|       3|   3|\n",
      "|        464|       3|   3|\n",
      "|         93|       3|   3|\n",
      "|        516|       3|   3|\n",
      "|        127|       3|   3|\n",
      "|        925|       3|   3|\n",
      "|        972|       3|   3|\n",
      "|        296|       2|   4|\n",
      "|        334|       2|   4|\n",
      "|        975|       2|   4|\n",
      "|        625|       2|   4|\n",
      "|        686|       2|   4|\n",
      "|        970|       2|   4|\n",
      "|        570|       2|   4|\n",
      "|        423|       2|   4|\n",
      "|        813|       2|   4|\n",
      "|        712|       2|   4|\n",
      "|        267|       2|   4|\n",
      "|        520|       2|   4|\n",
      "|        908|       2|   4|\n",
      "|        100|       2|   4|\n",
      "|        601|       2|   4|\n",
      "|        839|       2|   4|\n",
      "|          6|       2|   4|\n",
      "|         41|       2|   4|\n",
      "|        694|       2|   4|\n",
      "|        436|       2|   4|\n",
      "|        271|       2|   4|\n",
      "|        190|       2|   4|\n",
      "|        779|       2|   4|\n",
      "|         82|       2|   4|\n",
      "|        998|       2|   4|\n",
      "|        398|       2|   4|\n",
      "|        616|       2|   4|\n",
      "|        778|       2|   4|\n",
      "|        366|       2|   4|\n",
      "|        291|       2|   4|\n",
      "|        794|       2|   4|\n",
      "|        687|       2|   4|\n",
      "|        519|       2|   4|\n",
      "|        457|       2|   4|\n",
      "|        922|       2|   4|\n",
      "|        143|       2|   4|\n",
      "|        849|       2|   4|\n",
      "|        322|       2|   4|\n",
      "|        490|       2|   4|\n",
      "|        212|       2|   4|\n",
      "|        405|       2|   4|\n",
      "|        806|       2|   4|\n",
      "|        668|       2|   4|\n",
      "|        763|       2|   4|\n",
      "|        172|       2|   4|\n",
      "|        225|       2|   4|\n",
      "|        426|       2|   4|\n",
      "|        557|       2|   4|\n",
      "|        260|       2|   4|\n",
      "|        771|       2|   4|\n",
      "|        583|       2|   4|\n",
      "|        956|       2|   4|\n",
      "|        847|       2|   4|\n",
      "|        532|       2|   4|\n",
      "|        920|       2|   4|\n",
      "|        820|       2|   4|\n",
      "|        691|       1|   5|\n",
      "|        467|       1|   5|\n",
      "|        451|       1|   5|\n",
      "|        919|       1|   5|\n",
      "|          7|       1|   5|\n",
      "|        447|       1|   5|\n",
      "|        613|       1|   5|\n",
      "|        307|       1|   5|\n",
      "|        577|       1|   5|\n",
      "|        740|       1|   5|\n",
      "|        462|       1|   5|\n",
      "|        711|       1|   5|\n",
      "|         54|       1|   5|\n",
      "|        700|       1|   5|\n",
      "|        383|       1|   5|\n",
      "|        635|       1|   5|\n",
      "|        862|       1|   5|\n",
      "|        317|       1|   5|\n",
      "|        154|       1|   5|\n",
      "|        200|       1|   5|\n",
      "|        388|       1|   5|\n",
      "|        854|       1|   5|\n",
      "|        938|       1|   5|\n",
      "|        986|       1|   5|\n",
      "+-----------+--------+----+\n",
      "only showing top 100 rows\n",
      "\n"
     ]
    }
   ],
   "source": [
    "df_top_updates.show(100)"
   ]
  },
  {
   "cell_type": "code",
   "execution_count": null,
   "id": "97060188",
   "metadata": {},
   "outputs": [],
   "source": [
    "df_ages_avg = df_clients.withColumn(\n",
    "    \"nu_idade_cliente\",\n",
    "    F.round(F.datediff(F.current_date(), F.col(\"dt_nascimento_cliente\")) / 365.25),\n",
    ").select(F.round(F.avg(\"nu_idade_cliente\")).cast(\"int\").alias(\"nu_media_idade_cliente\"))"
   ]
  },
  {
   "cell_type": "code",
   "execution_count": 26,
   "id": "701e1109",
   "metadata": {},
   "outputs": [
    {
     "name": "stdout",
     "output_type": "stream",
     "text": [
      "+----------------------+\n",
      "|nu_media_idade_cliente|\n",
      "+----------------------+\n",
      "|                    50|\n",
      "+----------------------+\n",
      "\n"
     ]
    }
   ],
   "source": [
    "df_ages_avg.show()"
   ]
  }
 ],
 "metadata": {
  "kernelspec": {
   "display_name": "venv",
   "language": "python",
   "name": "python3"
  },
  "language_info": {
   "codemirror_mode": {
    "name": "ipython",
    "version": 3
   },
   "file_extension": ".py",
   "mimetype": "text/x-python",
   "name": "python",
   "nbconvert_exporter": "python",
   "pygments_lexer": "ipython3",
   "version": "3.13.3"
  }
 },
 "nbformat": 4,
 "nbformat_minor": 5
}
